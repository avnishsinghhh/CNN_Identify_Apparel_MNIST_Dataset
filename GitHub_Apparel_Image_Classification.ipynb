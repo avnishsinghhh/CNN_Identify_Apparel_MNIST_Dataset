{
  "nbformat": 4,
  "nbformat_minor": 0,
  "metadata": {
    "accelerator": "GPU",
    "colab": {
      "name": "GitHub_Apparel_Image_Classification.ipynb",
      "provenance": [],
      "collapsed_sections": []
    },
    "kernelspec": {
      "display_name": "Python 3",
      "language": "python",
      "name": "python3"
    },
    "language_info": {
      "codemirror_mode": {
        "name": "ipython",
        "version": 3
      },
      "file_extension": ".py",
      "mimetype": "text/x-python",
      "name": "python",
      "nbconvert_exporter": "python",
      "pygments_lexer": "ipython3",
      "version": "3.7.6"
    }
  },
  "cells": [
    {
      "cell_type": "markdown",
      "metadata": {
        "id": "1Djs6rQ3GMuQ"
      },
      "source": [
        "**Importing Libraries To Connect Google Drive**"
      ]
    },
    {
      "cell_type": "code",
      "metadata": {
        "id": "2zubUqeN4io0"
      },
      "source": [
        "import os\n",
        "from pydrive.auth import GoogleAuth\n",
        "from pydrive.drive import GoogleDrive\n",
        "from google.colab import auth\n",
        "from oauth2client.client import GoogleCredentials"
      ],
      "execution_count": 1,
      "outputs": []
    },
    {
      "cell_type": "markdown",
      "metadata": {
        "id": "CCGJ6iAPGMuY"
      },
      "source": [
        "**Connect Google Drive**"
      ]
    },
    {
      "cell_type": "code",
      "metadata": {
        "id": "XzlQ8AVC4nBY"
      },
      "source": [
        "auth.authenticate_user()\n",
        "gauth = GoogleAuth()\n",
        "gauth.credentials = GoogleCredentials.get_application_default()\n",
        "drive = GoogleDrive(gauth)"
      ],
      "execution_count": 2,
      "outputs": []
    },
    {
      "cell_type": "markdown",
      "metadata": {
        "id": "dax0Pi1lGMuZ"
      },
      "source": [
        "**Downloading Training Data Uploaded at Google Drive bold text**"
      ]
    },
    {
      "cell_type": "code",
      "metadata": {
        "id": "3PUZ_V974qAX"
      },
      "source": [
        "download_train = drive.CreateFile({'id': '16ldCVmTIM95z1-m3FQZe1Kj-HrEKe7fJ'})"
      ],
      "execution_count": 3,
      "outputs": []
    },
    {
      "cell_type": "code",
      "metadata": {
        "id": "t0_Jdbb94ztr"
      },
      "source": [
        "download_train.GetContentFile('train_LbELtWX.zip')\n",
        "!unzip train_LbELtWX.zip"
      ],
      "execution_count": null,
      "outputs": []
    },
    {
      "cell_type": "markdown",
      "metadata": {
        "id": "w-4wYkrCGMua"
      },
      "source": [
        "**Importing Required Libraries and Installing keras-tuner**"
      ]
    },
    {
      "cell_type": "code",
      "metadata": {
        "id": "ALbbOMrW5ZWM"
      },
      "source": [
        "import keras\n",
        "from tqdm import tqdm\n",
        "import pandas as pd\n",
        "import numpy as np\n",
        "from keras.preprocessing import image\n",
        "from keras.preprocessing.image import ImageDataGenerator\n",
        "from keras.models import Sequential\n",
        "from keras.layers import Dense, Dropout, Flatten, Activation\n",
        "from keras.layers import Conv2D, MaxPooling2D, Convolution1D, GlobalMaxPooling2D\n",
        "from keras.utils import to_categorical\n",
        "from sklearn.model_selection import train_test_split\n",
        "from keras import backend as K\n",
        "from keras.models import load_model\n",
        "import tensorflow as tf\n",
        "from tensorflow import keras\n",
        "import IPython\n",
        "\n",
        "!pip install -U keras-tuner\n",
        "import kerastuner as kt\n"
      ],
      "execution_count": null,
      "outputs": []
    },
    {
      "cell_type": "markdown",
      "metadata": {
        "id": "e-mOsqC_GMub"
      },
      "source": [
        "**Reading train.csv with image name and corresponding label**"
      ]
    },
    {
      "cell_type": "markdown",
      "metadata": {
        "id": "ksJiwiqyGMuc"
      },
      "source": [
        "**Dividing Training Set into Training and Testing Dataset**"
      ]
    },
    {
      "cell_type": "code",
      "metadata": {
        "colab": {
          "base_uri": "https://localhost:8080/",
          "height": 419
        },
        "id": "p0gCAPrR5klS",
        "outputId": "df848f74-8d2a-400b-fcf4-09ccbb4f9203"
      },
      "source": [
        "train_dataset = pd.read_csv(\"train_LbELtWX/train.csv\", dtype=str);\n",
        "train_dir = ('train_LbELtWX/train');\n",
        "\n",
        "train_dataset[\"id\"] = train_dataset[\"id\"].apply(lambda x : '{}{}'.format(x, '.png'));\n",
        "\n",
        "train_df=train_dataset[0:50000]\n",
        "test_df=train_dataset[50000:]\n",
        "\n",
        "train_df"
      ],
      "execution_count": 6,
      "outputs": [
        {
          "output_type": "execute_result",
          "data": {
            "text/html": [
              "<div>\n",
              "<style scoped>\n",
              "    .dataframe tbody tr th:only-of-type {\n",
              "        vertical-align: middle;\n",
              "    }\n",
              "\n",
              "    .dataframe tbody tr th {\n",
              "        vertical-align: top;\n",
              "    }\n",
              "\n",
              "    .dataframe thead th {\n",
              "        text-align: right;\n",
              "    }\n",
              "</style>\n",
              "<table border=\"1\" class=\"dataframe\">\n",
              "  <thead>\n",
              "    <tr style=\"text-align: right;\">\n",
              "      <th></th>\n",
              "      <th>id</th>\n",
              "      <th>label</th>\n",
              "    </tr>\n",
              "  </thead>\n",
              "  <tbody>\n",
              "    <tr>\n",
              "      <th>0</th>\n",
              "      <td>1.png</td>\n",
              "      <td>9</td>\n",
              "    </tr>\n",
              "    <tr>\n",
              "      <th>1</th>\n",
              "      <td>2.png</td>\n",
              "      <td>0</td>\n",
              "    </tr>\n",
              "    <tr>\n",
              "      <th>2</th>\n",
              "      <td>3.png</td>\n",
              "      <td>0</td>\n",
              "    </tr>\n",
              "    <tr>\n",
              "      <th>3</th>\n",
              "      <td>4.png</td>\n",
              "      <td>3</td>\n",
              "    </tr>\n",
              "    <tr>\n",
              "      <th>4</th>\n",
              "      <td>5.png</td>\n",
              "      <td>0</td>\n",
              "    </tr>\n",
              "    <tr>\n",
              "      <th>...</th>\n",
              "      <td>...</td>\n",
              "      <td>...</td>\n",
              "    </tr>\n",
              "    <tr>\n",
              "      <th>49995</th>\n",
              "      <td>49996.png</td>\n",
              "      <td>6</td>\n",
              "    </tr>\n",
              "    <tr>\n",
              "      <th>49996</th>\n",
              "      <td>49997.png</td>\n",
              "      <td>6</td>\n",
              "    </tr>\n",
              "    <tr>\n",
              "      <th>49997</th>\n",
              "      <td>49998.png</td>\n",
              "      <td>5</td>\n",
              "    </tr>\n",
              "    <tr>\n",
              "      <th>49998</th>\n",
              "      <td>49999.png</td>\n",
              "      <td>1</td>\n",
              "    </tr>\n",
              "    <tr>\n",
              "      <th>49999</th>\n",
              "      <td>50000.png</td>\n",
              "      <td>7</td>\n",
              "    </tr>\n",
              "  </tbody>\n",
              "</table>\n",
              "<p>50000 rows × 2 columns</p>\n",
              "</div>"
            ],
            "text/plain": [
              "              id label\n",
              "0          1.png     9\n",
              "1          2.png     0\n",
              "2          3.png     0\n",
              "3          4.png     3\n",
              "4          5.png     0\n",
              "...          ...   ...\n",
              "49995  49996.png     6\n",
              "49996  49997.png     6\n",
              "49997  49998.png     5\n",
              "49998  49999.png     1\n",
              "49999  50000.png     7\n",
              "\n",
              "[50000 rows x 2 columns]"
            ]
          },
          "metadata": {
            "tags": []
          },
          "execution_count": 6
        }
      ]
    },
    {
      "cell_type": "markdown",
      "metadata": {
        "id": "2d_faZ3EGMuc"
      },
      "source": [
        "**Dividing Training dataset into training and cross-validation dataset**"
      ]
    },
    {
      "cell_type": "code",
      "metadata": {
        "colab": {
          "base_uri": "https://localhost:8080/",
          "height": 419
        },
        "id": "H9SCgUo0Tkxh",
        "outputId": "e26fd650-a64f-466a-f7d2-8ba4cde42e2c"
      },
      "source": [
        "X_train, X_test, y_train, y_test = train_test_split(train_df[\"id\"], train_df[\"label\"], random_state=42, test_size=0.2)\n",
        "\n",
        "df_train = pd.concat([X_train, y_train], axis=1);\n",
        "df_test = pd.concat([X_test, y_test], axis=1);\n",
        "\n",
        "df_test"
      ],
      "execution_count": 7,
      "outputs": [
        {
          "output_type": "execute_result",
          "data": {
            "text/html": [
              "<div>\n",
              "<style scoped>\n",
              "    .dataframe tbody tr th:only-of-type {\n",
              "        vertical-align: middle;\n",
              "    }\n",
              "\n",
              "    .dataframe tbody tr th {\n",
              "        vertical-align: top;\n",
              "    }\n",
              "\n",
              "    .dataframe thead th {\n",
              "        text-align: right;\n",
              "    }\n",
              "</style>\n",
              "<table border=\"1\" class=\"dataframe\">\n",
              "  <thead>\n",
              "    <tr style=\"text-align: right;\">\n",
              "      <th></th>\n",
              "      <th>id</th>\n",
              "      <th>label</th>\n",
              "    </tr>\n",
              "  </thead>\n",
              "  <tbody>\n",
              "    <tr>\n",
              "      <th>33553</th>\n",
              "      <td>33554.png</td>\n",
              "      <td>5</td>\n",
              "    </tr>\n",
              "    <tr>\n",
              "      <th>9427</th>\n",
              "      <td>9428.png</td>\n",
              "      <td>7</td>\n",
              "    </tr>\n",
              "    <tr>\n",
              "      <th>199</th>\n",
              "      <td>200.png</td>\n",
              "      <td>2</td>\n",
              "    </tr>\n",
              "    <tr>\n",
              "      <th>12447</th>\n",
              "      <td>12448.png</td>\n",
              "      <td>9</td>\n",
              "    </tr>\n",
              "    <tr>\n",
              "      <th>39489</th>\n",
              "      <td>39490.png</td>\n",
              "      <td>0</td>\n",
              "    </tr>\n",
              "    <tr>\n",
              "      <th>...</th>\n",
              "      <td>...</td>\n",
              "      <td>...</td>\n",
              "    </tr>\n",
              "    <tr>\n",
              "      <th>28567</th>\n",
              "      <td>28568.png</td>\n",
              "      <td>4</td>\n",
              "    </tr>\n",
              "    <tr>\n",
              "      <th>25079</th>\n",
              "      <td>25080.png</td>\n",
              "      <td>0</td>\n",
              "    </tr>\n",
              "    <tr>\n",
              "      <th>18707</th>\n",
              "      <td>18708.png</td>\n",
              "      <td>9</td>\n",
              "    </tr>\n",
              "    <tr>\n",
              "      <th>15200</th>\n",
              "      <td>15201.png</td>\n",
              "      <td>9</td>\n",
              "    </tr>\n",
              "    <tr>\n",
              "      <th>5857</th>\n",
              "      <td>5858.png</td>\n",
              "      <td>7</td>\n",
              "    </tr>\n",
              "  </tbody>\n",
              "</table>\n",
              "<p>10000 rows × 2 columns</p>\n",
              "</div>"
            ],
            "text/plain": [
              "              id label\n",
              "33553  33554.png     5\n",
              "9427    9428.png     7\n",
              "199      200.png     2\n",
              "12447  12448.png     9\n",
              "39489  39490.png     0\n",
              "...          ...   ...\n",
              "28567  28568.png     4\n",
              "25079  25080.png     0\n",
              "18707  18708.png     9\n",
              "15200  15201.png     9\n",
              "5857    5858.png     7\n",
              "\n",
              "[10000 rows x 2 columns]"
            ]
          },
          "metadata": {
            "tags": []
          },
          "execution_count": 7
        }
      ]
    },
    {
      "cell_type": "markdown",
      "metadata": {
        "id": "DojY4bzXGMud"
      },
      "source": [
        "**Creating Training and Test Image Data generator object**"
      ]
    },
    {
      "cell_type": "code",
      "metadata": {
        "id": "TiNxWCod7NQ-"
      },
      "source": [
        "image_width, image_height = 30, 30;\n",
        "epochs = 20;\n",
        "batch_size = 20;\n",
        "\n",
        "if K.image_data_format() == \"channels_first\":\n",
        "    input_shape = (3, image_width, image_height);\n",
        "else:\n",
        "    input_shape = (image_width, image_height, 3);\n",
        "    \n",
        "train_datagen = ImageDataGenerator(\n",
        "    rescale = 1.0/255,\n",
        "    shear_range = 0.2,\n",
        "    zoom_range = 0.2,\n",
        "    horizontal_flip = True\n",
        ");\n",
        "\n",
        "test_datagen = ImageDataGenerator(rescale = 1.0/255);\n"
      ],
      "execution_count": 19,
      "outputs": []
    },
    {
      "cell_type": "markdown",
      "metadata": {
        "id": "7DtVeGWLGMud"
      },
      "source": [
        "**Creating training and validation data generator**"
      ]
    },
    {
      "cell_type": "code",
      "metadata": {
        "colab": {
          "base_uri": "https://localhost:8080/"
        },
        "id": "S9u81Fbi8vLv",
        "outputId": "2b6332ea-67fd-4a69-8873-dee56409e041"
      },
      "source": [
        "train_generator = train_datagen.flow_from_dataframe(\n",
        "    dataframe = df_train,\n",
        "    directory = \"train_LbELtWX/train/\",\n",
        "    x_col=\"id\", \n",
        "    y_col=\"label\", \n",
        "    target_size = (image_width, image_height),\n",
        "    batch_size = batch_size,\n",
        "    class_mode = 'categorical',\n",
        "    color_mode=\"rgb\",\n",
        "    seed=42\n",
        "    #classes=[\"0\", \"1\", \"2\", \"3\", \"4\", \"5\", \"6\", \"7\", \"8\", \"9\"]  \n",
        ");\n",
        "\n",
        "validation_generator = test_datagen.flow_from_dataframe(\n",
        "    dataframe = df_test,\n",
        "    directory = \"train_LbELtWX/train/\",\n",
        "    x_col=\"id\", \n",
        "    y_col=\"label\", \n",
        "    target_size = (image_width, image_height),\n",
        "    batch_size = batch_size,\n",
        "    class_mode = 'categorical',\n",
        "    color_mode=\"rgb\",\n",
        "    seed=42\n",
        "    #classes=[\"0\", \"1\", \"2\", \"3\", \"4\", \"5\", \"6\", \"7\", \"8\", \"9\"]  \n",
        ");"
      ],
      "execution_count": 9,
      "outputs": [
        {
          "output_type": "stream",
          "text": [
            "Found 40000 validated image filenames belonging to 10 classes.\n",
            "Found 10000 validated image filenames belonging to 10 classes.\n"
          ],
          "name": "stdout"
        }
      ]
    },
    {
      "cell_type": "markdown",
      "metadata": {
        "id": "_055J33sGMue"
      },
      "source": [
        "**Creating feature and target data for tuning and searching best model**"
      ]
    },
    {
      "cell_type": "code",
      "metadata": {
        "colab": {
          "base_uri": "https://localhost:8080/"
        },
        "id": "X5ySzRqQcePb",
        "outputId": "6ef7ad54-8f86-4643-dbb0-5f24f9761152"
      },
      "source": [
        "from tqdm import tqdm;\n",
        "\n",
        "train_img = []\n",
        "for i in tqdm(range(1,df_train.shape[0] + 1)):\n",
        "    img = image.load_img('train_LbELtWX/train/'+str(i)+'.png', target_size=(28,28,1), color_mode = 'grayscale')\n",
        "    img = image.img_to_array(img)\n",
        "    img = img/255.0\n",
        "    train_img.append(img)\n",
        "\n",
        "train_images = np.array(train_img)\n",
        "\n",
        "train_labels = train_df['label'].astype(int).values\n",
        "#y = to_categorical(train_labels)\n",
        "\n",
        "train_labels\n"
      ],
      "execution_count": 11,
      "outputs": [
        {
          "output_type": "stream",
          "text": [
            "100%|██████████| 40000/40000 [00:07<00:00, 5010.35it/s]\n"
          ],
          "name": "stderr"
        },
        {
          "output_type": "execute_result",
          "data": {
            "text/plain": [
              "array([9, 0, 0, ..., 5, 1, 7])"
            ]
          },
          "metadata": {
            "tags": []
          },
          "execution_count": 11
        }
      ]
    },
    {
      "cell_type": "markdown",
      "metadata": {
        "id": "RlHRX3-dG-Uz"
      },
      "source": [
        "**Function to Build CNN Model**"
      ]
    },
    {
      "cell_type": "code",
      "metadata": {
        "id": "kCDfFPpPaB02"
      },
      "source": [
        "def build_model(hp):\n",
        "  model = keras.Sequential([\n",
        "              keras.layers.Conv2D(\n",
        "                    filters=hp.Int('conv_1_filter', min_value=32, max_value=128, step=16),\n",
        "                    kernel_size = hp.Choice('conv_1_kernel', values = [3,5]),\n",
        "                    activation='relu',\n",
        "                    input_shape=(28,28,1)\n",
        "                    ),\n",
        "\n",
        "              keras.layers.Conv2D(\n",
        "                    filters=hp.Int('conv_2_filter', min_value=32, max_value=64, step=16),\n",
        "                    kernel_size = hp.Choice('conv_2_kernel', values = [3,5]),\n",
        "                    activation='relu'\n",
        "                    ),\n",
        "                  \n",
        "              keras.layers.Conv2D(\n",
        "                    filters=hp.Int('conv_3_filter', min_value=32, max_value=64, step=16),\n",
        "                    kernel_size = hp.Choice('conv_3_kernel', values = [3,5]),\n",
        "                    activation='relu'\n",
        "                    ),\n",
        "              \n",
        "              keras.layers.Conv2D(\n",
        "                    filters=hp.Int('conv_4_filter', min_value=32, max_value=64, step=16),\n",
        "                    kernel_size = hp.Choice('conv_4_kernel', values = [3,5]),\n",
        "                    activation='relu'\n",
        "                    ),\n",
        "                  \n",
        "              keras.layers.Flatten(),\n",
        "              keras.layers.Dense(\n",
        "                  units=hp.Int('dense_1_units', min_value=32, max_value=128, step=16),\n",
        "                  activation='relu'\n",
        "                    ),\n",
        "              \n",
        "              keras.layers.Dense(10, activation='softmax')\n",
        "              ])\n",
        "  \n",
        "  model.compile(optimizer=keras.optimizers.Adam(hp.Choice('learning_rate', values=[1e-2, 1e-3])),\n",
        "                loss='sparse_categorical_crossentropy',\n",
        "                metrics=['accuracy'])\n",
        "  \n",
        "  return model\n"
      ],
      "execution_count": 12,
      "outputs": []
    },
    {
      "cell_type": "markdown",
      "metadata": {
        "id": "4VIf7DEJIv5M"
      },
      "source": [
        "**Creating RandomSearch variable with function to create CNN model as argument**"
      ]
    },
    {
      "cell_type": "code",
      "metadata": {
        "id": "VAyTYUILOH_N"
      },
      "source": [
        "from kerastuner import RandomSearch\n",
        "from kerastuner.engine.hyperparameters import HyperParameters\n",
        "\n",
        "tuner_search = RandomSearch(build_model, objective='val_accuracy', max_trials=5)"
      ],
      "execution_count": 13,
      "outputs": []
    },
    {
      "cell_type": "markdown",
      "metadata": {
        "id": "Vg6SdHT7JpHz"
      },
      "source": [
        "**Searching Best Parameters for CNN model**"
      ]
    },
    {
      "cell_type": "code",
      "metadata": {
        "colab": {
          "base_uri": "https://localhost:8080/"
        },
        "id": "9mzLLRYZOMmv",
        "outputId": "f6529d21-7c9e-46bb-ebc6-65041025b416"
      },
      "source": [
        "tuner_search.search(train_images, train_labels, epochs=3, validation_split=0.2)"
      ],
      "execution_count": 14,
      "outputs": [
        {
          "output_type": "stream",
          "text": [
            "Trial 5 Complete [00h 00m 15s]\n",
            "val_accuracy: 0.10050000250339508\n",
            "\n",
            "Best val_accuracy So Far: 0.8927500247955322\n",
            "Total elapsed time: 00h 01m 19s\n",
            "INFO:tensorflow:Oracle triggered exit\n"
          ],
          "name": "stdout"
        }
      ]
    },
    {
      "cell_type": "markdown",
      "metadata": {
        "id": "AzRMk7tGJ-z0"
      },
      "source": [
        "**Finding Best CNN Model**"
      ]
    },
    {
      "cell_type": "code",
      "metadata": {
        "colab": {
          "base_uri": "https://localhost:8080/"
        },
        "id": "7Yezyv-bOPyK",
        "outputId": "f0096e7d-5108-42d4-fd65-bb2da0178bf5"
      },
      "source": [
        "model = tuner_search.get_best_models(num_models=1)[0]\n",
        "\n",
        "model.summary()"
      ],
      "execution_count": 15,
      "outputs": [
        {
          "output_type": "stream",
          "text": [
            "Model: \"sequential\"\n",
            "_________________________________________________________________\n",
            "Layer (type)                 Output Shape              Param #   \n",
            "=================================================================\n",
            "conv2d (Conv2D)              (None, 24, 24, 80)        2080      \n",
            "_________________________________________________________________\n",
            "conv2d_1 (Conv2D)            (None, 20, 20, 48)        96048     \n",
            "_________________________________________________________________\n",
            "conv2d_2 (Conv2D)            (None, 18, 18, 48)        20784     \n",
            "_________________________________________________________________\n",
            "conv2d_3 (Conv2D)            (None, 14, 14, 48)        57648     \n",
            "_________________________________________________________________\n",
            "flatten (Flatten)            (None, 9408)              0         \n",
            "_________________________________________________________________\n",
            "dense (Dense)                (None, 32)                301088    \n",
            "_________________________________________________________________\n",
            "dense_1 (Dense)              (None, 10)                330       \n",
            "=================================================================\n",
            "Total params: 477,978\n",
            "Trainable params: 477,978\n",
            "Non-trainable params: 0\n",
            "_________________________________________________________________\n"
          ],
          "name": "stdout"
        }
      ]
    },
    {
      "cell_type": "markdown",
      "metadata": {
        "id": "KbuLzP_LKLy6"
      },
      "source": [
        "**Using parameters suggested by RandomSearch and creating a CNN Model**"
      ]
    },
    {
      "cell_type": "code",
      "metadata": {
        "colab": {
          "base_uri": "https://localhost:8080/"
        },
        "id": "QPOcAI7U89ow",
        "outputId": "92c6fbdc-9dd9-4ef7-858e-85afa748de09"
      },
      "source": [
        "model = Sequential()\n",
        "model.add(Conv2D(80, (3, 3), input_shape = input_shape))\n",
        "model.add(Activation('relu'))\n",
        "model.add(MaxPooling2D(pool_size=(2,2)))\n",
        "\n",
        "model.add(Conv2D(48, (3, 3)));\n",
        "model.add(Activation('relu'));\n",
        "model.add(MaxPooling2D(pool_size=(2, 2)));\n",
        "\n",
        "model.add(Conv2D(48, (3, 3)));\n",
        "model.add(Activation('relu'));\n",
        "\n",
        "model.add(Conv2D(48, (3, 3)));\n",
        "model.add(Activation('relu'));\n",
        "model.add(MaxPooling2D(pool_size=(2, 2)));\n",
        "model.add(Dropout(0.25));\n",
        "\n",
        "model.add(Flatten());\n",
        "model.add(Dense(32));\n",
        "model.add(Activation('relu'));\n",
        "model.add(Dropout(0.5));\n",
        "\n",
        "model.add(Dense(10));\n",
        "model.add(Activation('softmax'));\n",
        "\n",
        "model.summary()\n"
      ],
      "execution_count": 16,
      "outputs": [
        {
          "output_type": "stream",
          "text": [
            "WARNING:tensorflow:Unresolved object in checkpoint: (root).optimizer.iter\n",
            "WARNING:tensorflow:Unresolved object in checkpoint: (root).optimizer.beta_1\n",
            "WARNING:tensorflow:Unresolved object in checkpoint: (root).optimizer.beta_2\n",
            "WARNING:tensorflow:Unresolved object in checkpoint: (root).optimizer.decay\n",
            "WARNING:tensorflow:Unresolved object in checkpoint: (root).optimizer.learning_rate\n",
            "WARNING:tensorflow:A checkpoint was restored (e.g. tf.train.Checkpoint.restore or tf.keras.Model.load_weights) but not all checkpointed values were used. See above for specific issues. Use expect_partial() on the load status object, e.g. tf.train.Checkpoint.restore(...).expect_partial(), to silence these warnings, or use assert_consumed() to make the check explicit. See https://www.tensorflow.org/guide/checkpoint#loading_mechanics for details.\n",
            "Model: \"sequential_1\"\n",
            "_________________________________________________________________\n",
            "Layer (type)                 Output Shape              Param #   \n",
            "=================================================================\n",
            "conv2d_4 (Conv2D)            (None, 28, 28, 80)        2240      \n",
            "_________________________________________________________________\n",
            "activation (Activation)      (None, 28, 28, 80)        0         \n",
            "_________________________________________________________________\n",
            "max_pooling2d (MaxPooling2D) (None, 14, 14, 80)        0         \n",
            "_________________________________________________________________\n",
            "conv2d_5 (Conv2D)            (None, 12, 12, 48)        34608     \n",
            "_________________________________________________________________\n",
            "activation_1 (Activation)    (None, 12, 12, 48)        0         \n",
            "_________________________________________________________________\n",
            "max_pooling2d_1 (MaxPooling2 (None, 6, 6, 48)          0         \n",
            "_________________________________________________________________\n",
            "conv2d_6 (Conv2D)            (None, 4, 4, 48)          20784     \n",
            "_________________________________________________________________\n",
            "activation_2 (Activation)    (None, 4, 4, 48)          0         \n",
            "_________________________________________________________________\n",
            "conv2d_7 (Conv2D)            (None, 2, 2, 48)          20784     \n",
            "_________________________________________________________________\n",
            "activation_3 (Activation)    (None, 2, 2, 48)          0         \n",
            "_________________________________________________________________\n",
            "max_pooling2d_2 (MaxPooling2 (None, 1, 1, 48)          0         \n",
            "_________________________________________________________________\n",
            "dropout (Dropout)            (None, 1, 1, 48)          0         \n",
            "_________________________________________________________________\n",
            "flatten_1 (Flatten)          (None, 48)                0         \n",
            "_________________________________________________________________\n",
            "dense_2 (Dense)              (None, 32)                1568      \n",
            "_________________________________________________________________\n",
            "activation_4 (Activation)    (None, 32)                0         \n",
            "_________________________________________________________________\n",
            "dropout_1 (Dropout)          (None, 32)                0         \n",
            "_________________________________________________________________\n",
            "dense_3 (Dense)              (None, 10)                330       \n",
            "_________________________________________________________________\n",
            "activation_5 (Activation)    (None, 10)                0         \n",
            "=================================================================\n",
            "Total params: 80,314\n",
            "Trainable params: 80,314\n",
            "Non-trainable params: 0\n",
            "_________________________________________________________________\n"
          ],
          "name": "stdout"
        }
      ]
    },
    {
      "cell_type": "markdown",
      "metadata": {
        "id": "W73OSiwOLLWs"
      },
      "source": [
        "**Compiling our CNN Model**"
      ]
    },
    {
      "cell_type": "code",
      "metadata": {
        "id": "k43WVIMe9Hd6",
        "colab": {
          "base_uri": "https://localhost:8080/"
        },
        "outputId": "14e06ae2-20bc-4a3c-91eb-75171ddbd5fc"
      },
      "source": [
        "opt = keras.optimizers.RMSprop(lr=0.0001, decay=1e-6);\n",
        "\n",
        "model.compile(optimizer = opt,\n",
        "              loss='categorical_crossentropy',\n",
        "              #optimizer = 'rmsprop',\n",
        "              metrics = ['accuracy']);\n",
        "\n",
        "model"
      ],
      "execution_count": 17,
      "outputs": [
        {
          "output_type": "execute_result",
          "data": {
            "text/plain": [
              "<tensorflow.python.keras.engine.sequential.Sequential at 0x7f8270324ef0>"
            ]
          },
          "metadata": {
            "tags": []
          },
          "execution_count": 17
        }
      ]
    },
    {
      "cell_type": "markdown",
      "metadata": {
        "id": "6YiHQ67mLT_t"
      },
      "source": [
        "**Training our CNN model and finding it's accuracy with validation dataset**"
      ]
    },
    {
      "cell_type": "code",
      "metadata": {
        "colab": {
          "base_uri": "https://localhost:8080/"
        },
        "id": "vrfvKVv29LZ5",
        "outputId": "696d5f79-1c49-4279-f277-447dfdc914f3"
      },
      "source": [
        "STEP_SIZE_TRAIN=train_generator.n//train_generator.batch_size\n",
        "STEP_SIZE_VALID=validation_generator.n//validation_generator.batch_size\n",
        "\n",
        "model.fit(train_generator,\n",
        "          steps_per_epoch=STEP_SIZE_TRAIN,\n",
        "          validation_data=validation_generator,\n",
        "          validation_steps=STEP_SIZE_VALID,\n",
        "          epochs=epochs);"
      ],
      "execution_count": 20,
      "outputs": [
        {
          "output_type": "stream",
          "text": [
            "Epoch 1/20\n",
            "2000/2000 [==============================] - 32s 16ms/step - loss: 0.6625 - accuracy: 0.7662 - val_loss: 0.4745 - val_accuracy: 0.8350\n",
            "Epoch 2/20\n",
            "2000/2000 [==============================] - 32s 16ms/step - loss: 0.6546 - accuracy: 0.7708 - val_loss: 0.4736 - val_accuracy: 0.8354\n",
            "Epoch 3/20\n",
            "2000/2000 [==============================] - 32s 16ms/step - loss: 0.6385 - accuracy: 0.7772 - val_loss: 0.4505 - val_accuracy: 0.8421\n",
            "Epoch 4/20\n",
            "2000/2000 [==============================] - 33s 16ms/step - loss: 0.6275 - accuracy: 0.7818 - val_loss: 0.4545 - val_accuracy: 0.8396\n",
            "Epoch 5/20\n",
            "2000/2000 [==============================] - 32s 16ms/step - loss: 0.6203 - accuracy: 0.7839 - val_loss: 0.4690 - val_accuracy: 0.8403\n",
            "Epoch 6/20\n",
            "2000/2000 [==============================] - 32s 16ms/step - loss: 0.6123 - accuracy: 0.7894 - val_loss: 0.4273 - val_accuracy: 0.8493\n",
            "Epoch 7/20\n",
            "2000/2000 [==============================] - 32s 16ms/step - loss: 0.6060 - accuracy: 0.7911 - val_loss: 0.4225 - val_accuracy: 0.8506\n",
            "Epoch 8/20\n",
            "2000/2000 [==============================] - 32s 16ms/step - loss: 0.6000 - accuracy: 0.7937 - val_loss: 0.4110 - val_accuracy: 0.8545\n",
            "Epoch 9/20\n",
            "2000/2000 [==============================] - 32s 16ms/step - loss: 0.5921 - accuracy: 0.7983 - val_loss: 0.4294 - val_accuracy: 0.8541\n",
            "Epoch 10/20\n",
            "2000/2000 [==============================] - 32s 16ms/step - loss: 0.5945 - accuracy: 0.7968 - val_loss: 0.4864 - val_accuracy: 0.8455\n",
            "Epoch 11/20\n",
            "2000/2000 [==============================] - 32s 16ms/step - loss: 0.5879 - accuracy: 0.8030 - val_loss: 0.4260 - val_accuracy: 0.8457\n",
            "Epoch 12/20\n",
            "2000/2000 [==============================] - 32s 16ms/step - loss: 0.5821 - accuracy: 0.8017 - val_loss: 0.4306 - val_accuracy: 0.8615\n",
            "Epoch 13/20\n",
            "2000/2000 [==============================] - 32s 16ms/step - loss: 0.5867 - accuracy: 0.8030 - val_loss: 0.4267 - val_accuracy: 0.8550\n",
            "Epoch 14/20\n",
            "2000/2000 [==============================] - 32s 16ms/step - loss: 0.5867 - accuracy: 0.8008 - val_loss: 0.4281 - val_accuracy: 0.8553\n",
            "Epoch 15/20\n",
            "2000/2000 [==============================] - 32s 16ms/step - loss: 0.5837 - accuracy: 0.8041 - val_loss: 0.4200 - val_accuracy: 0.8582\n",
            "Epoch 16/20\n",
            "2000/2000 [==============================] - 32s 16ms/step - loss: 0.5851 - accuracy: 0.8056 - val_loss: 0.4543 - val_accuracy: 0.8488\n",
            "Epoch 17/20\n",
            "2000/2000 [==============================] - 32s 16ms/step - loss: 0.5823 - accuracy: 0.8063 - val_loss: 0.4251 - val_accuracy: 0.8580\n",
            "Epoch 18/20\n",
            "2000/2000 [==============================] - 32s 16ms/step - loss: 0.5803 - accuracy: 0.8084 - val_loss: 0.4529 - val_accuracy: 0.8568\n",
            "Epoch 19/20\n",
            "2000/2000 [==============================] - 32s 16ms/step - loss: 0.5806 - accuracy: 0.8056 - val_loss: 0.4443 - val_accuracy: 0.8622\n",
            "Epoch 20/20\n",
            "2000/2000 [==============================] - 32s 16ms/step - loss: 0.5850 - accuracy: 0.8079 - val_loss: 0.4516 - val_accuracy: 0.8614\n"
          ],
          "name": "stdout"
        }
      ]
    },
    {
      "cell_type": "markdown",
      "metadata": {
        "id": "enP2-HEWQEv0"
      },
      "source": [
        "**Save Trained Model Which can be later used for predictions**"
      ]
    },
    {
      "cell_type": "code",
      "metadata": {
        "id": "DUtEStu2BeXS"
      },
      "source": [
        "model.save_weights('apparel_prediction.h5');"
      ],
      "execution_count": 21,
      "outputs": []
    },
    {
      "cell_type": "markdown",
      "metadata": {
        "id": "r8mmuo96QVG-"
      },
      "source": [
        "**Create Test Generator**"
      ]
    },
    {
      "cell_type": "code",
      "metadata": {
        "colab": {
          "base_uri": "https://localhost:8080/"
        },
        "id": "VshU2icdMDYc",
        "outputId": "467b1535-94d3-4c61-d5ac-524bbbe69979"
      },
      "source": [
        "test_generator = test_datagen.flow_from_dataframe(\n",
        "    dataframe = test_df,\n",
        "    directory = \"train_LbELtWX/train/\",\n",
        "    x_col=\"id\", \n",
        "    target_size = (image_width, image_height),\n",
        "    batch_size = batch_size,\n",
        "    class_mode = None,\n",
        "    color_mode = \"rgb\",\n",
        "    seed=42,\n",
        "    shuffle=False\n",
        ")\n"
      ],
      "execution_count": 22,
      "outputs": [
        {
          "output_type": "stream",
          "text": [
            "Found 10000 validated image filenames.\n"
          ],
          "name": "stdout"
        }
      ]
    },
    {
      "cell_type": "markdown",
      "metadata": {
        "id": "i2mDR7HuQaNR"
      },
      "source": [
        "**Predicting Test Dataset**"
      ]
    },
    {
      "cell_type": "code",
      "metadata": {
        "colab": {
          "base_uri": "https://localhost:8080/",
          "height": 436
        },
        "id": "pncazF56MQke",
        "outputId": "6ff2bd2d-a7e0-4c75-ab2a-404d99f640a4"
      },
      "source": [
        "test_generator.reset()\n",
        "\n",
        "predictions=model.predict(test_generator,verbose=1,steps=test_generator.n/batch_size);\n",
        "\n",
        "predictions = np.argmax(predictions, axis=1);\n",
        "\n",
        "filenames=test_generator.filenames;\n",
        "\n",
        "results=pd.DataFrame({\"id\":filenames,\n",
        "                      \"Predictions\":predictions});\n",
        "\n",
        "results[\"Expected\"]=test_df.reset_index().drop(columns=['index'])[\"label\"].astype('float32')\n",
        "\n",
        "results[\"Predictions\"]=results[\"Predictions\"].astype('float32')\n",
        "\n",
        "results=results.reindex(columns=['id','Expected','Predictions'])\n",
        "\n",
        "results\n"
      ],
      "execution_count": 28,
      "outputs": [
        {
          "output_type": "stream",
          "text": [
            "500/500 [==============================] - 3s 6ms/step\n"
          ],
          "name": "stdout"
        },
        {
          "output_type": "execute_result",
          "data": {
            "text/html": [
              "<div>\n",
              "<style scoped>\n",
              "    .dataframe tbody tr th:only-of-type {\n",
              "        vertical-align: middle;\n",
              "    }\n",
              "\n",
              "    .dataframe tbody tr th {\n",
              "        vertical-align: top;\n",
              "    }\n",
              "\n",
              "    .dataframe thead th {\n",
              "        text-align: right;\n",
              "    }\n",
              "</style>\n",
              "<table border=\"1\" class=\"dataframe\">\n",
              "  <thead>\n",
              "    <tr style=\"text-align: right;\">\n",
              "      <th></th>\n",
              "      <th>id</th>\n",
              "      <th>Expected</th>\n",
              "      <th>Predictions</th>\n",
              "    </tr>\n",
              "  </thead>\n",
              "  <tbody>\n",
              "    <tr>\n",
              "      <th>0</th>\n",
              "      <td>50001.png</td>\n",
              "      <td>9.0</td>\n",
              "      <td>9.0</td>\n",
              "    </tr>\n",
              "    <tr>\n",
              "      <th>1</th>\n",
              "      <td>50002.png</td>\n",
              "      <td>2.0</td>\n",
              "      <td>2.0</td>\n",
              "    </tr>\n",
              "    <tr>\n",
              "      <th>2</th>\n",
              "      <td>50003.png</td>\n",
              "      <td>1.0</td>\n",
              "      <td>1.0</td>\n",
              "    </tr>\n",
              "    <tr>\n",
              "      <th>3</th>\n",
              "      <td>50004.png</td>\n",
              "      <td>0.0</td>\n",
              "      <td>0.0</td>\n",
              "    </tr>\n",
              "    <tr>\n",
              "      <th>4</th>\n",
              "      <td>50005.png</td>\n",
              "      <td>2.0</td>\n",
              "      <td>2.0</td>\n",
              "    </tr>\n",
              "    <tr>\n",
              "      <th>...</th>\n",
              "      <td>...</td>\n",
              "      <td>...</td>\n",
              "      <td>...</td>\n",
              "    </tr>\n",
              "    <tr>\n",
              "      <th>9995</th>\n",
              "      <td>59996.png</td>\n",
              "      <td>5.0</td>\n",
              "      <td>5.0</td>\n",
              "    </tr>\n",
              "    <tr>\n",
              "      <th>9996</th>\n",
              "      <td>59997.png</td>\n",
              "      <td>1.0</td>\n",
              "      <td>1.0</td>\n",
              "    </tr>\n",
              "    <tr>\n",
              "      <th>9997</th>\n",
              "      <td>59998.png</td>\n",
              "      <td>3.0</td>\n",
              "      <td>3.0</td>\n",
              "    </tr>\n",
              "    <tr>\n",
              "      <th>9998</th>\n",
              "      <td>59999.png</td>\n",
              "      <td>0.0</td>\n",
              "      <td>6.0</td>\n",
              "    </tr>\n",
              "    <tr>\n",
              "      <th>9999</th>\n",
              "      <td>60000.png</td>\n",
              "      <td>5.0</td>\n",
              "      <td>5.0</td>\n",
              "    </tr>\n",
              "  </tbody>\n",
              "</table>\n",
              "<p>10000 rows × 3 columns</p>\n",
              "</div>"
            ],
            "text/plain": [
              "             id  Expected  Predictions\n",
              "0     50001.png       9.0          9.0\n",
              "1     50002.png       2.0          2.0\n",
              "2     50003.png       1.0          1.0\n",
              "3     50004.png       0.0          0.0\n",
              "4     50005.png       2.0          2.0\n",
              "...         ...       ...          ...\n",
              "9995  59996.png       5.0          5.0\n",
              "9996  59997.png       1.0          1.0\n",
              "9997  59998.png       3.0          3.0\n",
              "9998  59999.png       0.0          6.0\n",
              "9999  60000.png       5.0          5.0\n",
              "\n",
              "[10000 rows x 3 columns]"
            ]
          },
          "metadata": {
            "tags": []
          },
          "execution_count": 28
        }
      ]
    },
    {
      "cell_type": "markdown",
      "metadata": {
        "id": "jbYojYHWSyqh"
      },
      "source": [
        "**Result Accuracy**"
      ]
    },
    {
      "cell_type": "code",
      "metadata": {
        "colab": {
          "base_uri": "https://localhost:8080/"
        },
        "id": "CQHJcqg4OUls",
        "outputId": "46e349a2-d7da-40fc-e093-2084c87d24c4"
      },
      "source": [
        "Prediction_Percentage = len(results[results[\"Predictions\"]==results[\"Expected\"]])*100/len(results)\n",
        "\n",
        "print(\"Prediction Percentage: \", '{}{}'.format(Prediction_Percentage,'%'))"
      ],
      "execution_count": 35,
      "outputs": [
        {
          "output_type": "stream",
          "text": [
            "Prediction Percentage:  85.11%\n"
          ],
          "name": "stdout"
        }
      ]
    },
    {
      "cell_type": "markdown",
      "metadata": {
        "id": "oequaiwBS47l"
      },
      "source": [
        "**Predicting Apparels for Test Dataset**"
      ]
    },
    {
      "cell_type": "code",
      "metadata": {
        "id": "GHefeL8qc4fm"
      },
      "source": [
        "download_test = drive.CreateFile({'id': '1d6buKxF5ioKx5BV3m9__XVSeTLQjCkmh'})"
      ],
      "execution_count": 36,
      "outputs": []
    },
    {
      "cell_type": "code",
      "metadata": {
        "id": "Iln44xm0fdhp"
      },
      "source": [
        "download_test.GetContentFile('test_ScVgIM0.zip')\n",
        "!unzip test_ScVgIM0.zip"
      ],
      "execution_count": null,
      "outputs": []
    },
    {
      "cell_type": "code",
      "metadata": {
        "id": "J2XvbzuHiV26"
      },
      "source": [
        "test = pd.read_csv('test_ScVgIM0/test.csv')\n",
        "\n",
        "test[\"id\"] = test[\"id\"].apply(lambda x : '{}{}'.format(x,\".png\") )\n"
      ],
      "execution_count": 38,
      "outputs": []
    },
    {
      "cell_type": "code",
      "metadata": {
        "colab": {
          "base_uri": "https://localhost:8080/"
        },
        "id": "Ut_HTN3rimw6",
        "outputId": "e6668e98-191a-4d7f-b999-cf791d0411fc"
      },
      "source": [
        "# making predictions\n",
        "\n",
        "test_generator = test_datagen.flow_from_dataframe(\n",
        "    dataframe = test,\n",
        "    directory = \"test_ScVgIM0/test/\",\n",
        "    x_col=\"id\", \n",
        "    target_size = (image_width, image_height),\n",
        "    batch_size = batch_size,\n",
        "    class_mode = None,\n",
        "    color_mode = \"rgb\",\n",
        "    seed=42,\n",
        "    shuffle=False\n",
        ")\n"
      ],
      "execution_count": 39,
      "outputs": [
        {
          "output_type": "stream",
          "text": [
            "Found 10000 validated image filenames.\n"
          ],
          "name": "stdout"
        }
      ]
    },
    {
      "cell_type": "code",
      "metadata": {
        "colab": {
          "base_uri": "https://localhost:8080/",
          "height": 436
        },
        "id": "xSuoC_TjKSwG",
        "outputId": "fd455b33-e598-480b-ba62-18c3ec50b8cf"
      },
      "source": [
        "test_generator.reset()\n",
        "\n",
        "predictions=model.predict(test_generator,verbose=1,steps=test_generator.n/batch_size);\n",
        "\n",
        "predictions = np.argmax(predictions, axis=1);\n",
        "\n",
        "filenames=test_generator.filenames;\n",
        "\n",
        "results=pd.DataFrame({\"id\":filenames,\n",
        "                      \"label\":predictions});\n",
        "\n",
        "results\n"
      ],
      "execution_count": 40,
      "outputs": [
        {
          "output_type": "stream",
          "text": [
            "500/500 [==============================] - 3s 6ms/step\n"
          ],
          "name": "stdout"
        },
        {
          "output_type": "execute_result",
          "data": {
            "text/html": [
              "<div>\n",
              "<style scoped>\n",
              "    .dataframe tbody tr th:only-of-type {\n",
              "        vertical-align: middle;\n",
              "    }\n",
              "\n",
              "    .dataframe tbody tr th {\n",
              "        vertical-align: top;\n",
              "    }\n",
              "\n",
              "    .dataframe thead th {\n",
              "        text-align: right;\n",
              "    }\n",
              "</style>\n",
              "<table border=\"1\" class=\"dataframe\">\n",
              "  <thead>\n",
              "    <tr style=\"text-align: right;\">\n",
              "      <th></th>\n",
              "      <th>id</th>\n",
              "      <th>label</th>\n",
              "    </tr>\n",
              "  </thead>\n",
              "  <tbody>\n",
              "    <tr>\n",
              "      <th>0</th>\n",
              "      <td>60001.png</td>\n",
              "      <td>9</td>\n",
              "    </tr>\n",
              "    <tr>\n",
              "      <th>1</th>\n",
              "      <td>60002.png</td>\n",
              "      <td>2</td>\n",
              "    </tr>\n",
              "    <tr>\n",
              "      <th>2</th>\n",
              "      <td>60003.png</td>\n",
              "      <td>1</td>\n",
              "    </tr>\n",
              "    <tr>\n",
              "      <th>3</th>\n",
              "      <td>60004.png</td>\n",
              "      <td>1</td>\n",
              "    </tr>\n",
              "    <tr>\n",
              "      <th>4</th>\n",
              "      <td>60005.png</td>\n",
              "      <td>6</td>\n",
              "    </tr>\n",
              "    <tr>\n",
              "      <th>...</th>\n",
              "      <td>...</td>\n",
              "      <td>...</td>\n",
              "    </tr>\n",
              "    <tr>\n",
              "      <th>9995</th>\n",
              "      <td>69996.png</td>\n",
              "      <td>9</td>\n",
              "    </tr>\n",
              "    <tr>\n",
              "      <th>9996</th>\n",
              "      <td>69997.png</td>\n",
              "      <td>1</td>\n",
              "    </tr>\n",
              "    <tr>\n",
              "      <th>9997</th>\n",
              "      <td>69998.png</td>\n",
              "      <td>8</td>\n",
              "    </tr>\n",
              "    <tr>\n",
              "      <th>9998</th>\n",
              "      <td>69999.png</td>\n",
              "      <td>1</td>\n",
              "    </tr>\n",
              "    <tr>\n",
              "      <th>9999</th>\n",
              "      <td>70000.png</td>\n",
              "      <td>7</td>\n",
              "    </tr>\n",
              "  </tbody>\n",
              "</table>\n",
              "<p>10000 rows × 2 columns</p>\n",
              "</div>"
            ],
            "text/plain": [
              "             id  label\n",
              "0     60001.png      9\n",
              "1     60002.png      2\n",
              "2     60003.png      1\n",
              "3     60004.png      1\n",
              "4     60005.png      6\n",
              "...         ...    ...\n",
              "9995  69996.png      9\n",
              "9996  69997.png      1\n",
              "9997  69998.png      8\n",
              "9998  69999.png      1\n",
              "9999  70000.png      7\n",
              "\n",
              "[10000 rows x 2 columns]"
            ]
          },
          "metadata": {
            "tags": []
          },
          "execution_count": 40
        }
      ]
    }
  ]
}